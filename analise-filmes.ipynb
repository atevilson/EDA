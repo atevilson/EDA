{
 "cells": [
  {
   "cell_type": "markdown",
   "id": "651e4d36-d209-49e2-8689-4afd75422050",
   "metadata": {},
   "source": [
    "# EDA  - Exploratory Data Analysis"
   ]
  },
  {
   "cell_type": "markdown",
   "id": "ca1f5b89-f760-4625-b1ca-6de9c8e75c89",
   "metadata": {},
   "source": [
    "### Olá, isso é apenas um EDA simples para expor meu conhecimento até o momento com análise de dados utilizando Python e suas libs."
   ]
  },
  {
   "cell_type": "code",
   "execution_count": 542,
   "id": "f1fd2f49-e317-416c-8c20-4606b76c734d",
   "metadata": {
    "tags": []
   },
   "outputs": [],
   "source": [
    "import matplotlib.pyplot as plt\n",
    "import seaborn as sns\n",
    "import pandas as pd"
   ]
  },
  {
   "cell_type": "code",
   "execution_count": 543,
   "id": "11e28afd-d26a-4e48-9ac3-3b02abcdb733",
   "metadata": {
    "tags": []
   },
   "outputs": [],
   "source": [
    "# Base de filmes por genero\n",
    "base_filmes = pd.read_csv(\"dados_brutos/movies.csv\")"
   ]
  },
  {
   "cell_type": "code",
   "execution_count": 544,
   "id": "4201eb0e-cfd4-4f91-9486-c96069b72903",
   "metadata": {
    "tags": []
   },
   "outputs": [
    {
     "name": "stdout",
     "output_type": "stream",
     "text": [
      "A base de dados possui 9742 registros de filmes e 3 colunas\n"
     ]
    }
   ],
   "source": [
    "print(\"A base de dados possui {} registros de filmes e {} colunas\".format(base_filmes.shape[0], base_filmes.shape[1]))"
   ]
  },
  {
   "cell_type": "code",
   "execution_count": 545,
   "id": "622ad8cd-e0a0-4696-bf19-337a9e462cc0",
   "metadata": {
    "tags": []
   },
   "outputs": [
    {
     "data": {
      "text/html": [
       "<div>\n",
       "<style scoped>\n",
       "    .dataframe tbody tr th:only-of-type {\n",
       "        vertical-align: middle;\n",
       "    }\n",
       "\n",
       "    .dataframe tbody tr th {\n",
       "        vertical-align: top;\n",
       "    }\n",
       "\n",
       "    .dataframe thead th {\n",
       "        text-align: right;\n",
       "    }\n",
       "</style>\n",
       "<table border=\"1\" class=\"dataframe\">\n",
       "  <thead>\n",
       "    <tr style=\"text-align: right;\">\n",
       "      <th></th>\n",
       "      <th>movieId</th>\n",
       "      <th>title</th>\n",
       "      <th>genres</th>\n",
       "    </tr>\n",
       "  </thead>\n",
       "  <tbody>\n",
       "    <tr>\n",
       "      <th>0</th>\n",
       "      <td>1</td>\n",
       "      <td>Toy Story (1995)</td>\n",
       "      <td>Adventure|Animation|Children|Comedy|Fantasy</td>\n",
       "    </tr>\n",
       "    <tr>\n",
       "      <th>1</th>\n",
       "      <td>2</td>\n",
       "      <td>Jumanji (1995)</td>\n",
       "      <td>Adventure|Children|Fantasy</td>\n",
       "    </tr>\n",
       "    <tr>\n",
       "      <th>2</th>\n",
       "      <td>3</td>\n",
       "      <td>Grumpier Old Men (1995)</td>\n",
       "      <td>Comedy|Romance</td>\n",
       "    </tr>\n",
       "    <tr>\n",
       "      <th>3</th>\n",
       "      <td>4</td>\n",
       "      <td>Waiting to Exhale (1995)</td>\n",
       "      <td>Comedy|Drama|Romance</td>\n",
       "    </tr>\n",
       "    <tr>\n",
       "      <th>4</th>\n",
       "      <td>5</td>\n",
       "      <td>Father of the Bride Part II (1995)</td>\n",
       "      <td>Comedy</td>\n",
       "    </tr>\n",
       "  </tbody>\n",
       "</table>\n",
       "</div>"
      ],
      "text/plain": [
       "   movieId                               title   \n",
       "0        1                    Toy Story (1995)  \\\n",
       "1        2                      Jumanji (1995)   \n",
       "2        3             Grumpier Old Men (1995)   \n",
       "3        4            Waiting to Exhale (1995)   \n",
       "4        5  Father of the Bride Part II (1995)   \n",
       "\n",
       "                                        genres  \n",
       "0  Adventure|Animation|Children|Comedy|Fantasy  \n",
       "1                   Adventure|Children|Fantasy  \n",
       "2                               Comedy|Romance  \n",
       "3                         Comedy|Drama|Romance  \n",
       "4                                       Comedy  "
      ]
     },
     "execution_count": 545,
     "metadata": {},
     "output_type": "execute_result"
    }
   ],
   "source": [
    "base_filmes.head()"
   ]
  },
  {
   "cell_type": "code",
   "execution_count": 546,
   "id": "4ad0ec8e-1037-4a7d-a7fa-9bf449a871b2",
   "metadata": {
    "tags": []
   },
   "outputs": [],
   "source": [
    "# Renomeando colunas\n",
    "base_filmes.rename(columns={\"movieId\": \"id\", \"title\": \"filme\", \"genres\": \"genero\"}, inplace=True)"
   ]
  },
  {
   "cell_type": "code",
   "execution_count": 547,
   "id": "b68d3510-a4aa-4f6e-8ea7-edbb30b5991b",
   "metadata": {
    "tags": []
   },
   "outputs": [
    {
     "data": {
      "text/html": [
       "<div>\n",
       "<style scoped>\n",
       "    .dataframe tbody tr th:only-of-type {\n",
       "        vertical-align: middle;\n",
       "    }\n",
       "\n",
       "    .dataframe tbody tr th {\n",
       "        vertical-align: top;\n",
       "    }\n",
       "\n",
       "    .dataframe thead th {\n",
       "        text-align: right;\n",
       "    }\n",
       "</style>\n",
       "<table border=\"1\" class=\"dataframe\">\n",
       "  <thead>\n",
       "    <tr style=\"text-align: right;\">\n",
       "      <th></th>\n",
       "      <th>id</th>\n",
       "      <th>filme</th>\n",
       "      <th>genero</th>\n",
       "    </tr>\n",
       "  </thead>\n",
       "  <tbody>\n",
       "    <tr>\n",
       "      <th>0</th>\n",
       "      <td>1</td>\n",
       "      <td>Toy Story (1995)</td>\n",
       "      <td>Adventure|Animation|Children|Comedy|Fantasy</td>\n",
       "    </tr>\n",
       "    <tr>\n",
       "      <th>1</th>\n",
       "      <td>2</td>\n",
       "      <td>Jumanji (1995)</td>\n",
       "      <td>Adventure|Children|Fantasy</td>\n",
       "    </tr>\n",
       "    <tr>\n",
       "      <th>2</th>\n",
       "      <td>3</td>\n",
       "      <td>Grumpier Old Men (1995)</td>\n",
       "      <td>Comedy|Romance</td>\n",
       "    </tr>\n",
       "    <tr>\n",
       "      <th>3</th>\n",
       "      <td>4</td>\n",
       "      <td>Waiting to Exhale (1995)</td>\n",
       "      <td>Comedy|Drama|Romance</td>\n",
       "    </tr>\n",
       "    <tr>\n",
       "      <th>4</th>\n",
       "      <td>5</td>\n",
       "      <td>Father of the Bride Part II (1995)</td>\n",
       "      <td>Comedy</td>\n",
       "    </tr>\n",
       "  </tbody>\n",
       "</table>\n",
       "</div>"
      ],
      "text/plain": [
       "   id                               filme   \n",
       "0   1                    Toy Story (1995)  \\\n",
       "1   2                      Jumanji (1995)   \n",
       "2   3             Grumpier Old Men (1995)   \n",
       "3   4            Waiting to Exhale (1995)   \n",
       "4   5  Father of the Bride Part II (1995)   \n",
       "\n",
       "                                        genero  \n",
       "0  Adventure|Animation|Children|Comedy|Fantasy  \n",
       "1                   Adventure|Children|Fantasy  \n",
       "2                               Comedy|Romance  \n",
       "3                         Comedy|Drama|Romance  \n",
       "4                                       Comedy  "
      ]
     },
     "execution_count": 547,
     "metadata": {},
     "output_type": "execute_result"
    }
   ],
   "source": [
    "base_filmes.head()"
   ]
  },
  {
   "cell_type": "code",
   "execution_count": 548,
   "id": "f0fe0b90-f3f2-452b-8bd1-ef1cd7f77439",
   "metadata": {
    "tags": []
   },
   "outputs": [],
   "source": [
    "# Base de notas da base de filmes\n",
    "base_notas = pd.read_csv(\"dados_brutos/ratings.csv\")"
   ]
  },
  {
   "cell_type": "code",
   "execution_count": 549,
   "id": "1d35aedb-5850-4bf0-b55b-ab8e3ffa2375",
   "metadata": {
    "tags": []
   },
   "outputs": [
    {
     "name": "stdout",
     "output_type": "stream",
     "text": [
      "A base de dados possui 100836 registros de notas e 4 colunas\n"
     ]
    }
   ],
   "source": [
    "print(\"A base de dados possui {} registros de notas e {} colunas\".format(base_notas.shape[0], base_notas.shape[1]))"
   ]
  },
  {
   "cell_type": "code",
   "execution_count": 550,
   "id": "166197a1-e691-4f0b-8f72-2cc97667028b",
   "metadata": {
    "tags": []
   },
   "outputs": [
    {
     "data": {
      "text/html": [
       "<div>\n",
       "<style scoped>\n",
       "    .dataframe tbody tr th:only-of-type {\n",
       "        vertical-align: middle;\n",
       "    }\n",
       "\n",
       "    .dataframe tbody tr th {\n",
       "        vertical-align: top;\n",
       "    }\n",
       "\n",
       "    .dataframe thead th {\n",
       "        text-align: right;\n",
       "    }\n",
       "</style>\n",
       "<table border=\"1\" class=\"dataframe\">\n",
       "  <thead>\n",
       "    <tr style=\"text-align: right;\">\n",
       "      <th></th>\n",
       "      <th>userId</th>\n",
       "      <th>movieId</th>\n",
       "      <th>rating</th>\n",
       "      <th>timestamp</th>\n",
       "    </tr>\n",
       "  </thead>\n",
       "  <tbody>\n",
       "    <tr>\n",
       "      <th>0</th>\n",
       "      <td>1</td>\n",
       "      <td>1</td>\n",
       "      <td>4.0</td>\n",
       "      <td>964982703</td>\n",
       "    </tr>\n",
       "    <tr>\n",
       "      <th>1</th>\n",
       "      <td>1</td>\n",
       "      <td>3</td>\n",
       "      <td>4.0</td>\n",
       "      <td>964981247</td>\n",
       "    </tr>\n",
       "    <tr>\n",
       "      <th>2</th>\n",
       "      <td>1</td>\n",
       "      <td>6</td>\n",
       "      <td>4.0</td>\n",
       "      <td>964982224</td>\n",
       "    </tr>\n",
       "    <tr>\n",
       "      <th>3</th>\n",
       "      <td>1</td>\n",
       "      <td>47</td>\n",
       "      <td>5.0</td>\n",
       "      <td>964983815</td>\n",
       "    </tr>\n",
       "    <tr>\n",
       "      <th>4</th>\n",
       "      <td>1</td>\n",
       "      <td>50</td>\n",
       "      <td>5.0</td>\n",
       "      <td>964982931</td>\n",
       "    </tr>\n",
       "  </tbody>\n",
       "</table>\n",
       "</div>"
      ],
      "text/plain": [
       "   userId  movieId  rating  timestamp\n",
       "0       1        1     4.0  964982703\n",
       "1       1        3     4.0  964981247\n",
       "2       1        6     4.0  964982224\n",
       "3       1       47     5.0  964983815\n",
       "4       1       50     5.0  964982931"
      ]
     },
     "execution_count": 550,
     "metadata": {},
     "output_type": "execute_result"
    }
   ],
   "source": [
    "base_notas.head()"
   ]
  },
  {
   "cell_type": "code",
   "execution_count": 551,
   "id": "71cd3ebc-44f0-47a2-a57b-7bcbfe31568d",
   "metadata": {
    "tags": []
   },
   "outputs": [],
   "source": [
    "# Merge entre as bases para trazer as notas no dataframe \"base_filmes\"\n",
    "base_filmes = base_filmes.merge(base_notas[[\"movieId\", \"rating\"]], left_on=\"id\", right_on=\"movieId\", how=\"right\")"
   ]
  },
  {
   "cell_type": "code",
   "execution_count": 552,
   "id": "b93654d1-cc69-44af-b360-62670a65e491",
   "metadata": {
    "tags": []
   },
   "outputs": [
    {
     "data": {
      "text/html": [
       "<div>\n",
       "<style scoped>\n",
       "    .dataframe tbody tr th:only-of-type {\n",
       "        vertical-align: middle;\n",
       "    }\n",
       "\n",
       "    .dataframe tbody tr th {\n",
       "        vertical-align: top;\n",
       "    }\n",
       "\n",
       "    .dataframe thead th {\n",
       "        text-align: right;\n",
       "    }\n",
       "</style>\n",
       "<table border=\"1\" class=\"dataframe\">\n",
       "  <thead>\n",
       "    <tr style=\"text-align: right;\">\n",
       "      <th></th>\n",
       "      <th>id</th>\n",
       "      <th>filme</th>\n",
       "      <th>genero</th>\n",
       "      <th>movieId</th>\n",
       "      <th>rating</th>\n",
       "    </tr>\n",
       "  </thead>\n",
       "  <tbody>\n",
       "    <tr>\n",
       "      <th>0</th>\n",
       "      <td>1</td>\n",
       "      <td>Toy Story (1995)</td>\n",
       "      <td>Adventure|Animation|Children|Comedy|Fantasy</td>\n",
       "      <td>1</td>\n",
       "      <td>4.0</td>\n",
       "    </tr>\n",
       "    <tr>\n",
       "      <th>1</th>\n",
       "      <td>3</td>\n",
       "      <td>Grumpier Old Men (1995)</td>\n",
       "      <td>Comedy|Romance</td>\n",
       "      <td>3</td>\n",
       "      <td>4.0</td>\n",
       "    </tr>\n",
       "    <tr>\n",
       "      <th>2</th>\n",
       "      <td>6</td>\n",
       "      <td>Heat (1995)</td>\n",
       "      <td>Action|Crime|Thriller</td>\n",
       "      <td>6</td>\n",
       "      <td>4.0</td>\n",
       "    </tr>\n",
       "    <tr>\n",
       "      <th>3</th>\n",
       "      <td>47</td>\n",
       "      <td>Seven (a.k.a. Se7en) (1995)</td>\n",
       "      <td>Mystery|Thriller</td>\n",
       "      <td>47</td>\n",
       "      <td>5.0</td>\n",
       "    </tr>\n",
       "    <tr>\n",
       "      <th>4</th>\n",
       "      <td>50</td>\n",
       "      <td>Usual Suspects, The (1995)</td>\n",
       "      <td>Crime|Mystery|Thriller</td>\n",
       "      <td>50</td>\n",
       "      <td>5.0</td>\n",
       "    </tr>\n",
       "  </tbody>\n",
       "</table>\n",
       "</div>"
      ],
      "text/plain": [
       "   id                        filme   \n",
       "0   1             Toy Story (1995)  \\\n",
       "1   3      Grumpier Old Men (1995)   \n",
       "2   6                  Heat (1995)   \n",
       "3  47  Seven (a.k.a. Se7en) (1995)   \n",
       "4  50   Usual Suspects, The (1995)   \n",
       "\n",
       "                                        genero  movieId  rating  \n",
       "0  Adventure|Animation|Children|Comedy|Fantasy        1     4.0  \n",
       "1                               Comedy|Romance        3     4.0  \n",
       "2                        Action|Crime|Thriller        6     4.0  \n",
       "3                             Mystery|Thriller       47     5.0  \n",
       "4                       Crime|Mystery|Thriller       50     5.0  "
      ]
     },
     "execution_count": 552,
     "metadata": {},
     "output_type": "execute_result"
    }
   ],
   "source": [
    "base_filmes.head()"
   ]
  },
  {
   "cell_type": "code",
   "execution_count": 553,
   "id": "afd2b557-f953-426e-94d0-efaf70f927f7",
   "metadata": {
    "tags": []
   },
   "outputs": [],
   "source": [
    "# Exclusão da coluna excedente usada no relacionamento\n",
    "base_filmes = base_filmes.drop(\"movieId\", axis=1)"
   ]
  },
  {
   "cell_type": "code",
   "execution_count": 554,
   "id": "c935a82f-bdd6-412d-951b-9c3f4ecd7844",
   "metadata": {
    "tags": []
   },
   "outputs": [
    {
     "name": "stdout",
     "output_type": "stream",
     "text": [
      "Agora a base_filmes possui 100836 registros de filmes e notas com 4 colunas\n"
     ]
    }
   ],
   "source": [
    "print(\"Agora a base_filmes possui {} registros de filmes e notas com {} colunas\".format(base_notas.shape[0], base_notas.shape[1]))"
   ]
  },
  {
   "cell_type": "code",
   "execution_count": 555,
   "id": "744592e6-a706-4f0a-83f4-0e1e4a185b63",
   "metadata": {
    "tags": []
   },
   "outputs": [
    {
     "data": {
      "text/html": [
       "<div>\n",
       "<style scoped>\n",
       "    .dataframe tbody tr th:only-of-type {\n",
       "        vertical-align: middle;\n",
       "    }\n",
       "\n",
       "    .dataframe tbody tr th {\n",
       "        vertical-align: top;\n",
       "    }\n",
       "\n",
       "    .dataframe thead th {\n",
       "        text-align: right;\n",
       "    }\n",
       "</style>\n",
       "<table border=\"1\" class=\"dataframe\">\n",
       "  <thead>\n",
       "    <tr style=\"text-align: right;\">\n",
       "      <th></th>\n",
       "      <th>id</th>\n",
       "      <th>filme</th>\n",
       "      <th>genero</th>\n",
       "      <th>rating</th>\n",
       "    </tr>\n",
       "  </thead>\n",
       "  <tbody>\n",
       "    <tr>\n",
       "      <th>0</th>\n",
       "      <td>1</td>\n",
       "      <td>Toy Story (1995)</td>\n",
       "      <td>Adventure|Animation|Children|Comedy|Fantasy</td>\n",
       "      <td>4.0</td>\n",
       "    </tr>\n",
       "    <tr>\n",
       "      <th>1</th>\n",
       "      <td>3</td>\n",
       "      <td>Grumpier Old Men (1995)</td>\n",
       "      <td>Comedy|Romance</td>\n",
       "      <td>4.0</td>\n",
       "    </tr>\n",
       "    <tr>\n",
       "      <th>2</th>\n",
       "      <td>6</td>\n",
       "      <td>Heat (1995)</td>\n",
       "      <td>Action|Crime|Thriller</td>\n",
       "      <td>4.0</td>\n",
       "    </tr>\n",
       "    <tr>\n",
       "      <th>3</th>\n",
       "      <td>47</td>\n",
       "      <td>Seven (a.k.a. Se7en) (1995)</td>\n",
       "      <td>Mystery|Thriller</td>\n",
       "      <td>5.0</td>\n",
       "    </tr>\n",
       "    <tr>\n",
       "      <th>4</th>\n",
       "      <td>50</td>\n",
       "      <td>Usual Suspects, The (1995)</td>\n",
       "      <td>Crime|Mystery|Thriller</td>\n",
       "      <td>5.0</td>\n",
       "    </tr>\n",
       "  </tbody>\n",
       "</table>\n",
       "</div>"
      ],
      "text/plain": [
       "   id                        filme   \n",
       "0   1             Toy Story (1995)  \\\n",
       "1   3      Grumpier Old Men (1995)   \n",
       "2   6                  Heat (1995)   \n",
       "3  47  Seven (a.k.a. Se7en) (1995)   \n",
       "4  50   Usual Suspects, The (1995)   \n",
       "\n",
       "                                        genero  rating  \n",
       "0  Adventure|Animation|Children|Comedy|Fantasy     4.0  \n",
       "1                               Comedy|Romance     4.0  \n",
       "2                        Action|Crime|Thriller     4.0  \n",
       "3                             Mystery|Thriller     5.0  \n",
       "4                       Crime|Mystery|Thriller     5.0  "
      ]
     },
     "execution_count": 555,
     "metadata": {},
     "output_type": "execute_result"
    }
   ],
   "source": [
    "base_filmes.head()"
   ]
  },
  {
   "cell_type": "code",
   "execution_count": 556,
   "id": "b0d54ab5-5091-4bce-8e1f-a3fd03b3f32c",
   "metadata": {
    "tags": []
   },
   "outputs": [],
   "source": [
    "# Renomeando a coluna rating\n",
    "base_filmes.rename(columns={\"rating\": \"notas\"}, inplace=True)"
   ]
  },
  {
   "cell_type": "code",
   "execution_count": 557,
   "id": "a23203a4-5656-4053-8c1e-998f657ac5d9",
   "metadata": {
    "tags": []
   },
   "outputs": [
    {
     "data": {
      "text/html": [
       "<div>\n",
       "<style scoped>\n",
       "    .dataframe tbody tr th:only-of-type {\n",
       "        vertical-align: middle;\n",
       "    }\n",
       "\n",
       "    .dataframe tbody tr th {\n",
       "        vertical-align: top;\n",
       "    }\n",
       "\n",
       "    .dataframe thead th {\n",
       "        text-align: right;\n",
       "    }\n",
       "</style>\n",
       "<table border=\"1\" class=\"dataframe\">\n",
       "  <thead>\n",
       "    <tr style=\"text-align: right;\">\n",
       "      <th></th>\n",
       "      <th>id</th>\n",
       "      <th>filme</th>\n",
       "      <th>genero</th>\n",
       "      <th>notas</th>\n",
       "    </tr>\n",
       "  </thead>\n",
       "  <tbody>\n",
       "    <tr>\n",
       "      <th>0</th>\n",
       "      <td>1</td>\n",
       "      <td>Toy Story (1995)</td>\n",
       "      <td>Adventure|Animation|Children|Comedy|Fantasy</td>\n",
       "      <td>4.0</td>\n",
       "    </tr>\n",
       "    <tr>\n",
       "      <th>1</th>\n",
       "      <td>3</td>\n",
       "      <td>Grumpier Old Men (1995)</td>\n",
       "      <td>Comedy|Romance</td>\n",
       "      <td>4.0</td>\n",
       "    </tr>\n",
       "    <tr>\n",
       "      <th>2</th>\n",
       "      <td>6</td>\n",
       "      <td>Heat (1995)</td>\n",
       "      <td>Action|Crime|Thriller</td>\n",
       "      <td>4.0</td>\n",
       "    </tr>\n",
       "    <tr>\n",
       "      <th>3</th>\n",
       "      <td>47</td>\n",
       "      <td>Seven (a.k.a. Se7en) (1995)</td>\n",
       "      <td>Mystery|Thriller</td>\n",
       "      <td>5.0</td>\n",
       "    </tr>\n",
       "    <tr>\n",
       "      <th>4</th>\n",
       "      <td>50</td>\n",
       "      <td>Usual Suspects, The (1995)</td>\n",
       "      <td>Crime|Mystery|Thriller</td>\n",
       "      <td>5.0</td>\n",
       "    </tr>\n",
       "  </tbody>\n",
       "</table>\n",
       "</div>"
      ],
      "text/plain": [
       "   id                        filme   \n",
       "0   1             Toy Story (1995)  \\\n",
       "1   3      Grumpier Old Men (1995)   \n",
       "2   6                  Heat (1995)   \n",
       "3  47  Seven (a.k.a. Se7en) (1995)   \n",
       "4  50   Usual Suspects, The (1995)   \n",
       "\n",
       "                                        genero  notas  \n",
       "0  Adventure|Animation|Children|Comedy|Fantasy    4.0  \n",
       "1                               Comedy|Romance    4.0  \n",
       "2                        Action|Crime|Thriller    4.0  \n",
       "3                             Mystery|Thriller    5.0  \n",
       "4                       Crime|Mystery|Thriller    5.0  "
      ]
     },
     "execution_count": 557,
     "metadata": {},
     "output_type": "execute_result"
    }
   ],
   "source": [
    "base_filmes.head()"
   ]
  },
  {
   "cell_type": "code",
   "execution_count": 558,
   "id": "20d4c910-6d45-4ff4-afdf-de86a04ae93f",
   "metadata": {
    "tags": []
   },
   "outputs": [],
   "source": [
    "# Ordenando pela coluna notas\n",
    "#base_filmes = base_filmes.sort_values(by=\"notas\", ascending=False)"
   ]
  },
  {
   "cell_type": "code",
   "execution_count": 559,
   "id": "043389f5-fe4a-4b93-80ff-1075eb4c12a5",
   "metadata": {
    "tags": []
   },
   "outputs": [],
   "source": [
    "# Contagem de notas\n",
    "historico_notas = base_filmes[\"notas\"].value_counts()"
   ]
  },
  {
   "cell_type": "code",
   "execution_count": 560,
   "id": "408512b8-d1ea-46b5-a291-580384f84dff",
   "metadata": {
    "tags": []
   },
   "outputs": [
    {
     "name": "stdout",
     "output_type": "stream",
     "text": [
      "Quantidade por notas\n",
      "4.0    26818\n",
      "3.0    20047\n",
      "5.0    13211\n",
      "3.5    13136\n",
      "4.5     8551\n",
      "2.0     7551\n",
      "2.5     5550\n",
      "1.0     2811\n",
      "1.5     1791\n",
      "0.5     1370\n",
      "Name: count, dtype: int64\n"
     ]
    }
   ],
   "source": [
    "print(\"Quantidade por\",historico_notas)"
   ]
  },
  {
   "cell_type": "code",
   "execution_count": 561,
   "id": "9260547d-f530-4542-b64f-8d82bab05a7f",
   "metadata": {
    "tags": []
   },
   "outputs": [
    {
     "data": {
      "text/plain": [
       "id        0\n",
       "filme     0\n",
       "genero    0\n",
       "notas     0\n",
       "dtype: int64"
      ]
     },
     "execution_count": 561,
     "metadata": {},
     "output_type": "execute_result"
    }
   ],
   "source": [
    "# Conferindo se existe dados nulos no dataframe\n",
    "base_filmes.isna().sum()"
   ]
  },
  {
   "cell_type": "code",
   "execution_count": 562,
   "id": "c28c4e7d-2c4d-448d-bcf9-ad07ecdbb1a1",
   "metadata": {
    "tags": []
   },
   "outputs": [],
   "source": [
    "# Informações do tipo de dados de cada colina\n",
    "base = pd.DataFrame(base_filmes.dtypes, columns = [\"Tipo de dados\"])"
   ]
  },
  {
   "cell_type": "code",
   "execution_count": 563,
   "id": "137ff3dc-c6a7-4569-aec9-3217a2f7bc4c",
   "metadata": {
    "tags": []
   },
   "outputs": [],
   "source": [
    "base.columns.name = \"Coluna\""
   ]
  },
  {
   "cell_type": "code",
   "execution_count": 564,
   "id": "84ec7f12-8615-4cfa-bb74-9bf4a1b97336",
   "metadata": {
    "tags": []
   },
   "outputs": [
    {
     "data": {
      "text/html": [
       "<div>\n",
       "<style scoped>\n",
       "    .dataframe tbody tr th:only-of-type {\n",
       "        vertical-align: middle;\n",
       "    }\n",
       "\n",
       "    .dataframe tbody tr th {\n",
       "        vertical-align: top;\n",
       "    }\n",
       "\n",
       "    .dataframe thead th {\n",
       "        text-align: right;\n",
       "    }\n",
       "</style>\n",
       "<table border=\"1\" class=\"dataframe\">\n",
       "  <thead>\n",
       "    <tr style=\"text-align: right;\">\n",
       "      <th>Coluna</th>\n",
       "      <th>Tipo de dados</th>\n",
       "    </tr>\n",
       "  </thead>\n",
       "  <tbody>\n",
       "    <tr>\n",
       "      <th>id</th>\n",
       "      <td>int64</td>\n",
       "    </tr>\n",
       "    <tr>\n",
       "      <th>filme</th>\n",
       "      <td>object</td>\n",
       "    </tr>\n",
       "    <tr>\n",
       "      <th>genero</th>\n",
       "      <td>object</td>\n",
       "    </tr>\n",
       "    <tr>\n",
       "      <th>notas</th>\n",
       "      <td>float64</td>\n",
       "    </tr>\n",
       "  </tbody>\n",
       "</table>\n",
       "</div>"
      ],
      "text/plain": [
       "Coluna Tipo de dados\n",
       "id             int64\n",
       "filme         object\n",
       "genero        object\n",
       "notas        float64"
      ]
     },
     "execution_count": 564,
     "metadata": {},
     "output_type": "execute_result"
    }
   ],
   "source": [
    "base"
   ]
  },
  {
   "cell_type": "code",
   "execution_count": 565,
   "id": "10ba9ef6-16e5-4e74-ada4-8e1651879a9f",
   "metadata": {
    "tags": []
   },
   "outputs": [
    {
     "data": {
      "text/html": [
       "<div>\n",
       "<style scoped>\n",
       "    .dataframe tbody tr th:only-of-type {\n",
       "        vertical-align: middle;\n",
       "    }\n",
       "\n",
       "    .dataframe tbody tr th {\n",
       "        vertical-align: top;\n",
       "    }\n",
       "\n",
       "    .dataframe thead th {\n",
       "        text-align: right;\n",
       "    }\n",
       "</style>\n",
       "<table border=\"1\" class=\"dataframe\">\n",
       "  <thead>\n",
       "    <tr style=\"text-align: right;\">\n",
       "      <th></th>\n",
       "      <th>id</th>\n",
       "      <th>filme</th>\n",
       "      <th>genero</th>\n",
       "      <th>notas</th>\n",
       "    </tr>\n",
       "  </thead>\n",
       "  <tbody>\n",
       "    <tr>\n",
       "      <th>0</th>\n",
       "      <td>1</td>\n",
       "      <td>Toy Story (1995)</td>\n",
       "      <td>Adventure|Animation|Children|Comedy|Fantasy</td>\n",
       "      <td>4.0</td>\n",
       "    </tr>\n",
       "    <tr>\n",
       "      <th>1</th>\n",
       "      <td>3</td>\n",
       "      <td>Grumpier Old Men (1995)</td>\n",
       "      <td>Comedy|Romance</td>\n",
       "      <td>4.0</td>\n",
       "    </tr>\n",
       "    <tr>\n",
       "      <th>2</th>\n",
       "      <td>6</td>\n",
       "      <td>Heat (1995)</td>\n",
       "      <td>Action|Crime|Thriller</td>\n",
       "      <td>4.0</td>\n",
       "    </tr>\n",
       "    <tr>\n",
       "      <th>3</th>\n",
       "      <td>47</td>\n",
       "      <td>Seven (a.k.a. Se7en) (1995)</td>\n",
       "      <td>Mystery|Thriller</td>\n",
       "      <td>5.0</td>\n",
       "    </tr>\n",
       "    <tr>\n",
       "      <th>4</th>\n",
       "      <td>50</td>\n",
       "      <td>Usual Suspects, The (1995)</td>\n",
       "      <td>Crime|Mystery|Thriller</td>\n",
       "      <td>5.0</td>\n",
       "    </tr>\n",
       "  </tbody>\n",
       "</table>\n",
       "</div>"
      ],
      "text/plain": [
       "   id                        filme   \n",
       "0   1             Toy Story (1995)  \\\n",
       "1   3      Grumpier Old Men (1995)   \n",
       "2   6                  Heat (1995)   \n",
       "3  47  Seven (a.k.a. Se7en) (1995)   \n",
       "4  50   Usual Suspects, The (1995)   \n",
       "\n",
       "                                        genero  notas  \n",
       "0  Adventure|Animation|Children|Comedy|Fantasy    4.0  \n",
       "1                               Comedy|Romance    4.0  \n",
       "2                        Action|Crime|Thriller    4.0  \n",
       "3                             Mystery|Thriller    5.0  \n",
       "4                       Crime|Mystery|Thriller    5.0  "
      ]
     },
     "execution_count": 565,
     "metadata": {},
     "output_type": "execute_result"
    }
   ],
   "source": [
    "base_filmes.head()"
   ]
  },
  {
   "cell_type": "code",
   "execution_count": 566,
   "id": "c02fba2e-ded8-4438-a3cc-21f949397678",
   "metadata": {
    "tags": []
   },
   "outputs": [],
   "source": [
    "pd.set_option('display.max_rows', None)"
   ]
  },
  {
   "cell_type": "code",
   "execution_count": 567,
   "id": "3c528846-640c-4819-9925-9f21981b30b3",
   "metadata": {
    "tags": []
   },
   "outputs": [],
   "source": [
    "toystore = (base_filmes[\"filme\"] == \"Toy Story (1995)\").value_counts()"
   ]
  },
  {
   "cell_type": "code",
   "execution_count": 568,
   "id": "72fcafb0-449c-491a-844e-7ca16d88e537",
   "metadata": {
    "tags": []
   },
   "outputs": [
    {
     "name": "stdout",
     "output_type": "stream",
     "text": [
      "A base de dados possui 100621 registros de outros filmes e o registro de notas para Toy Story igual a 215 linhas\n"
     ]
    }
   ],
   "source": [
    "print(\"A base de dados possui {} registros de outros filmes e o registro de notas para Toy Story igual a {} linhas\".format(toystore[0], toystore[1]))"
   ]
  },
  {
   "cell_type": "code",
   "execution_count": 569,
   "id": "0d768fd0-c52d-4288-b144-f9d720da9e26",
   "metadata": {
    "tags": []
   },
   "outputs": [
    {
     "data": {
      "text/plain": [
       "count    100836.00\n",
       "mean          3.50\n",
       "std           1.04\n",
       "min           0.50\n",
       "25%           3.00\n",
       "50%           3.50\n",
       "75%           4.00\n",
       "max           5.00\n",
       "Name: notas, dtype: float64"
      ]
     },
     "execution_count": 569,
     "metadata": {},
     "output_type": "execute_result"
    }
   ],
   "source": [
    "# Dados estatisticos da coluna \"notas\"\n",
    "base_filmes[\"notas\"].describe().round(2)"
   ]
  },
  {
   "cell_type": "code",
   "execution_count": 570,
   "id": "8fea236c-7ca0-4811-a061-f323202bb2be",
   "metadata": {
    "tags": []
   },
   "outputs": [],
   "source": [
    "filmes_nota_cinco = base_filmes.loc[base_filmes[\"notas\"] == 5.0]"
   ]
  },
  {
   "cell_type": "code",
   "execution_count": 571,
   "id": "05631ee1-2b07-4d9c-89fd-366b699468f8",
   "metadata": {
    "tags": []
   },
   "outputs": [
    {
     "data": {
      "text/html": [
       "<div>\n",
       "<style scoped>\n",
       "    .dataframe tbody tr th:only-of-type {\n",
       "        vertical-align: middle;\n",
       "    }\n",
       "\n",
       "    .dataframe tbody tr th {\n",
       "        vertical-align: top;\n",
       "    }\n",
       "\n",
       "    .dataframe thead th {\n",
       "        text-align: right;\n",
       "    }\n",
       "</style>\n",
       "<table border=\"1\" class=\"dataframe\">\n",
       "  <thead>\n",
       "    <tr style=\"text-align: right;\">\n",
       "      <th></th>\n",
       "      <th>id</th>\n",
       "      <th>filme</th>\n",
       "      <th>genero</th>\n",
       "      <th>notas</th>\n",
       "    </tr>\n",
       "  </thead>\n",
       "  <tbody>\n",
       "    <tr>\n",
       "      <th>3</th>\n",
       "      <td>47</td>\n",
       "      <td>Seven (a.k.a. Se7en) (1995)</td>\n",
       "      <td>Mystery|Thriller</td>\n",
       "      <td>5.0</td>\n",
       "    </tr>\n",
       "    <tr>\n",
       "      <th>4</th>\n",
       "      <td>50</td>\n",
       "      <td>Usual Suspects, The (1995)</td>\n",
       "      <td>Crime|Mystery|Thriller</td>\n",
       "      <td>5.0</td>\n",
       "    </tr>\n",
       "    <tr>\n",
       "      <th>6</th>\n",
       "      <td>101</td>\n",
       "      <td>Bottle Rocket (1996)</td>\n",
       "      <td>Adventure|Comedy|Crime|Romance</td>\n",
       "      <td>5.0</td>\n",
       "    </tr>\n",
       "    <tr>\n",
       "      <th>8</th>\n",
       "      <td>151</td>\n",
       "      <td>Rob Roy (1995)</td>\n",
       "      <td>Action|Drama|Romance|War</td>\n",
       "      <td>5.0</td>\n",
       "    </tr>\n",
       "    <tr>\n",
       "      <th>9</th>\n",
       "      <td>157</td>\n",
       "      <td>Canadian Bacon (1995)</td>\n",
       "      <td>Comedy|War</td>\n",
       "      <td>5.0</td>\n",
       "    </tr>\n",
       "  </tbody>\n",
       "</table>\n",
       "</div>"
      ],
      "text/plain": [
       "    id                        filme                          genero  notas\n",
       "3   47  Seven (a.k.a. Se7en) (1995)                Mystery|Thriller    5.0\n",
       "4   50   Usual Suspects, The (1995)          Crime|Mystery|Thriller    5.0\n",
       "6  101         Bottle Rocket (1996)  Adventure|Comedy|Crime|Romance    5.0\n",
       "8  151               Rob Roy (1995)        Action|Drama|Romance|War    5.0\n",
       "9  157        Canadian Bacon (1995)                      Comedy|War    5.0"
      ]
     },
     "execution_count": 571,
     "metadata": {},
     "output_type": "execute_result"
    }
   ],
   "source": [
    "filmes_nota_cinco.head()"
   ]
  },
  {
   "cell_type": "code",
   "execution_count": 572,
   "id": "d35b508d-ffa8-4d9e-9035-951b5e525d8c",
   "metadata": {
    "tags": []
   },
   "outputs": [
    {
     "data": {
      "text/plain": [
       "13211"
      ]
     },
     "execution_count": 572,
     "metadata": {},
     "output_type": "execute_result"
    }
   ],
   "source": [
    "filmes_nota_cinco[\"notas\"].count()"
   ]
  },
  {
   "cell_type": "code",
   "execution_count": 573,
   "id": "5449af62-dc55-4049-9b2d-fd33337d74ba",
   "metadata": {
    "tags": []
   },
   "outputs": [],
   "source": [
    "# Children|Comedy|Fantasy|Musical"
   ]
  },
  {
   "cell_type": "code",
   "execution_count": 574,
   "id": "aa543a20-2d2e-4532-a385-9fb8fc162877",
   "metadata": {
    "tags": []
   },
   "outputs": [],
   "source": [
    "filmes_infantis_nota5 = filmes_nota_cinco[filmes_nota_cinco[\"genero\"].str.contains(\"Children\")]"
   ]
  },
  {
   "cell_type": "markdown",
   "id": "10b936bc-ca1a-4326-a71c-45356b2dd9d7",
   "metadata": {},
   "source": [
    "### Relação de nota 5 do filme Toy Story"
   ]
  },
  {
   "cell_type": "code",
   "execution_count": 575,
   "id": "44767a4e-bf7c-45ba-998a-8d0a438fd834",
   "metadata": {
    "tags": []
   },
   "outputs": [],
   "source": [
    "toy_story_notas = base_filmes[base_filmes[\"filme\"] == \"Toy Story (1995)\"]"
   ]
  },
  {
   "cell_type": "code",
   "execution_count": 576,
   "id": "2f04c1fd-d784-4c2b-a0d2-c2ff6308ec57",
   "metadata": {
    "tags": []
   },
   "outputs": [],
   "source": [
    "notas_TS = toy_story_notas[\"notas\"].value_counts().sort_index()"
   ]
  },
  {
   "cell_type": "code",
   "execution_count": 577,
   "id": "c59fa87a-d2b7-4252-9402-45996a72d9ed",
   "metadata": {
    "tags": []
   },
   "outputs": [],
   "source": [
    "notas_gerais = range(1, 7)\n",
    "listagem = [notas_TS.get(nota, 0.5) for nota in notas_gerais]"
   ]
  },
  {
   "cell_type": "code",
   "execution_count": 578,
   "id": "fbb679ec-5425-46d0-a493-0a2ffaccf0f5",
   "metadata": {
    "tags": []
   },
   "outputs": [
    {
     "data": {
      "text/plain": [
       "<function matplotlib.pyplot.show(close=None, block=None)>"
      ]
     },
     "execution_count": 578,
     "metadata": {},
     "output_type": "execute_result"
    },
    {
     "data": {
      "image/png": "[encoded data removed]",
      "text/plain": [
       "<Figure size 640x480 with 1 Axes>"
      ]
     },
     "metadata": {},
     "output_type": "display_data"
    }
   ],
   "source": [
    "# Comparativo de notas do filme toy story\n",
    "\n",
    "plt.bar(notas_gerais, listagem, color=\"black\", alpha=0.7)\n",
    "plt.xlabel(\"Avaliaçoes\")\n",
    "plt.ylabel(\"Notas\")\n",
    "plt.title(\"Relação de notas do filme Toy Story\")\n",
    "\n",
    "for n, nota in enumerate(notas_gerais):\n",
    "    plt.text(nota, listagem[n], str(listagem[n]), ha=\"center\", va=\"bottom\")\n",
    "             \n",
    "\n",
    "plt.tight_layout()        \n",
    "plt.show"
   ]
  },
  {
   "cell_type": "code",
   "execution_count": 579,
   "id": "fe60df16-8b5f-46ec-ae63-f5e74f876c0b",
   "metadata": {
    "tags": []
   },
   "outputs": [
    {
     "data": {
      "text/plain": [
       "(215, 4)"
      ]
     },
     "execution_count": 579,
     "metadata": {},
     "output_type": "execute_result"
    }
   ],
   "source": [
    "toy_story_notas.shape"
   ]
  },
  {
   "cell_type": "markdown",
   "id": "3dc015d0-622e-40e5-9a67-bc2a0b040a99",
   "metadata": {},
   "source": [
    "### Relação das notas do top 10 da base_filmes"
   ]
  },
  {
   "cell_type": "code",
   "execution_count": 580,
   "id": "4cb0644f-a698-4489-9c71-0d433c57e9d2",
   "metadata": {
    "tags": []
   },
   "outputs": [],
   "source": [
    "# Top 10 filmes da base e suas respectivas notas\n",
    "top10_notas_filmes = base_filmes.head(10)"
   ]
  },
  {
   "cell_type": "code",
   "execution_count": 581,
   "id": "3302a862-783e-4856-83f7-ae3e4535343b",
   "metadata": {
    "tags": []
   },
   "outputs": [
    {
     "data": {
      "image/png": "[encoded data removed]",
      "text/plain": [
       "<Figure size 1200x600 with 1 Axes>"
      ]
     },
     "metadata": {},
     "output_type": "display_data"
    }
   ],
   "source": [
    "filmes = top10_notas_filmes[\"filme\"]\n",
    "qtd_notas = top10_notas_filmes[\"notas\"]\n",
    "\n",
    "plt.figure(figsize=(12,6))\n",
    "plt.bar(filmes, qtd_notas, color='black', alpha=0.7)\n",
    "plt.plot(filmes, qtd_notas, linestyle='--', marker='o', color='red', label='Notas 5', linewidth=1) # parametros da linha tracejada\n",
    "\n",
    "plt.xticks(rotation=45, ha=\"right\") # rotação do eixo x\n",
    "\n",
    "\n",
    "plt.xlabel(\"filme\")\n",
    "plt.ylabel(\"nota\")\n",
    "plt.title(\"Top 10 filmes com nota 5\")\n",
    "\n",
    "plt.tight_layout() # ajuste de layout do gráfico\n",
    "plt.show()"
   ]
  },
  {
   "cell_type": "markdown",
   "id": "9c2dda8b-4877-416c-9f9e-cfe995af1ba9",
   "metadata": {},
   "source": [
    "### Outlier da base_filmes "
   ]
  },
  {
   "cell_type": "code",
   "execution_count": 582,
   "id": "cf13e97b-f938-49eb-8fc5-5d55e8b8d2eb",
   "metadata": {
    "tags": []
   },
   "outputs": [],
   "source": [
    "Q1 = base_filmes[\"notas\"].quantile(0.25) # primeiro quartil\n",
    "Q3 = base_filmes[\"notas\"].quantile(0.75) # terceiro quartil\n",
    "\n",
    "# Calcule o intervalo interquartil\n",
    "IQR = Q3 - Q1"
   ]
  },
  {
   "cell_type": "code",
   "execution_count": 583,
   "id": "d282b3d0-0e33-4614-8bf6-3a47d7823b9f",
   "metadata": {
    "tags": []
   },
   "outputs": [],
   "source": [
    "# Defina limites para identificar outliers\n",
    "limite_inferior = Q1 - 1.5 * IQR\n",
    "limite_superior = Q3 + 1.5 * IQR"
   ]
  },
  {
   "cell_type": "code",
   "execution_count": 584,
   "id": "2aeb387f-c47d-4a9b-86d7-63e1c990ad72",
   "metadata": {
    "tags": []
   },
   "outputs": [],
   "source": [
    "# Identifique os outliers\n",
    "desvio_padrao = base_filmes[(base_filmes[\"notas\"] < limite_inferior) | (base_filmes[\"notas\"] > limite_superior)]"
   ]
  },
  {
   "cell_type": "code",
   "execution_count": 585,
   "id": "7bd1b556-0651-47c9-b429-02c2a873e88b",
   "metadata": {
    "tags": []
   },
   "outputs": [
    {
     "data": {
      "text/html": [
       "<div>\n",
       "<style scoped>\n",
       "    .dataframe tbody tr th:only-of-type {\n",
       "        vertical-align: middle;\n",
       "    }\n",
       "\n",
       "    .dataframe tbody tr th {\n",
       "        vertical-align: top;\n",
       "    }\n",
       "\n",
       "    .dataframe thead th {\n",
       "        text-align: right;\n",
       "    }\n",
       "</style>\n",
       "<table border=\"1\" class=\"dataframe\">\n",
       "  <thead>\n",
       "    <tr style=\"text-align: right;\">\n",
       "      <th></th>\n",
       "      <th>id</th>\n",
       "      <th>filme</th>\n",
       "      <th>genero</th>\n",
       "      <th>notas</th>\n",
       "    </tr>\n",
       "  </thead>\n",
       "  <tbody>\n",
       "    <tr>\n",
       "      <th>205</th>\n",
       "      <td>3176</td>\n",
       "      <td>Talented Mr. Ripley, The (1999)</td>\n",
       "      <td>Drama|Mystery|Thriller</td>\n",
       "      <td>1.0</td>\n",
       "    </tr>\n",
       "    <tr>\n",
       "      <th>261</th>\n",
       "      <td>31</td>\n",
       "      <td>Dangerous Minds (1995)</td>\n",
       "      <td>Drama</td>\n",
       "      <td>0.5</td>\n",
       "    </tr>\n",
       "    <tr>\n",
       "      <th>262</th>\n",
       "      <td>527</td>\n",
       "      <td>Schindler's List (1993)</td>\n",
       "      <td>Drama|War</td>\n",
       "      <td>0.5</td>\n",
       "    </tr>\n",
       "    <tr>\n",
       "      <th>263</th>\n",
       "      <td>647</td>\n",
       "      <td>Courage Under Fire (1996)</td>\n",
       "      <td>Action|Crime|Drama|War</td>\n",
       "      <td>0.5</td>\n",
       "    </tr>\n",
       "    <tr>\n",
       "      <th>264</th>\n",
       "      <td>688</td>\n",
       "      <td>Operation Dumbo Drop (1995)</td>\n",
       "      <td>Action|Adventure|Comedy|War</td>\n",
       "      <td>0.5</td>\n",
       "    </tr>\n",
       "  </tbody>\n",
       "</table>\n",
       "</div>"
      ],
      "text/plain": [
       "       id                            filme                       genero  notas\n",
       "205  3176  Talented Mr. Ripley, The (1999)       Drama|Mystery|Thriller    1.0\n",
       "261    31           Dangerous Minds (1995)                        Drama    0.5\n",
       "262   527          Schindler's List (1993)                    Drama|War    0.5\n",
       "263   647        Courage Under Fire (1996)       Action|Crime|Drama|War    0.5\n",
       "264   688      Operation Dumbo Drop (1995)  Action|Adventure|Comedy|War    0.5"
      ]
     },
     "execution_count": 585,
     "metadata": {},
     "output_type": "execute_result"
    }
   ],
   "source": [
    "# Exiba os outliers\n",
    "desvio_padrao.head()"
   ]
  },
  {
   "cell_type": "code",
   "execution_count": 586,
   "id": "3bf697e9-580a-407c-b8a0-3304f10e6612",
   "metadata": {
    "tags": []
   },
   "outputs": [
    {
     "data": {
      "image/png": "[encoded data removed]",
      "text/plain": [
       "<Figure size 1200x600 with 1 Axes>"
      ]
     },
     "metadata": {},
     "output_type": "display_data"
    }
   ],
   "source": [
    "# Boxplot para visualizar os dados e os outliers\n",
    "plt.figure(figsize=(12,6))\n",
    "plt.boxplot(base_filmes[\"notas\"], vert=False)\n",
    "plt.scatter(desvio_padrao[\"notas\"], [1] * len(desvio_padrao), color=\"black\",marker=\"o\")\n",
    "plt.title(\"Notas com Desvio Padrão\")\n",
    "plt.xlabel(\"Notas\")\n",
    "plt.ylabel(\"Desvio\")\n",
    "plt.tight_layout() # ajuste de layout do gráfico\n",
    "plt.show()"
   ]
  },
  {
   "cell_type": "code",
   "execution_count": 587,
   "id": "aa730c97-70a0-4ac3-a735-84ed4fd6aa43",
   "metadata": {
    "tags": []
   },
   "outputs": [],
   "source": [
    "# Resumo estatístico da base_filmes\n",
    "media = base_filmes[\"notas\"].mean()\n",
    "mediana = base_filmes[\"notas\"].median()\n",
    "minimo = base_filmes[\"notas\"].min()\n",
    "maximo = base_filmes[\"notas\"].max()"
   ]
  },
  {
   "cell_type": "code",
   "execution_count": 588,
   "id": "22333eb0-a37d-40f8-9dd3-042e4c206192",
   "metadata": {
    "tags": []
   },
   "outputs": [
    {
     "name": "stdout",
     "output_type": "stream",
     "text": [
      "A base de dados possui 3.501556983616962 de média, 3.5 de mediana, 0.5 de minimo, e 5.0 de maximo\n"
     ]
    }
   ],
   "source": [
    "print(\"A base de dados possui {} de média, {} de mediana, {} de minimo, e {} de maximo\".format(media, mediana, minimo, maximo))"
   ]
  },
  {
   "cell_type": "markdown",
   "id": "e9bd8b70-4b40-449a-8827-246f63aefb57",
   "metadata": {},
   "source": [
    "### Teste de hipóteses"
   ]
  },
  {
   "cell_type": "code",
   "execution_count": 589,
   "id": "3898f234-5a44-4090-987f-d53f0d99195c",
   "metadata": {
    "tags": []
   },
   "outputs": [],
   "source": [
    "#\"Adventure|Animation|Children|Comedy|Fantasy\"\n",
    "#\"Animation|Children|Fantasy|Musical\"\n",
    "filmes_infantil_aventura = base_filmes[base_filmes[\"genero\"] == \"Adventure|Animation|Children|Comedy|Fantasy\"][\"notas\"]\n",
    "filmes_infantil_fantasia = base_filmes[base_filmes['genero'] == \"Animation|Children|Fantasy|Musical\"][\"notas\"]"
   ]
  },
  {
   "cell_type": "code",
   "execution_count": 590,
   "id": "0e0794de-b293-4e48-88f7-5ecf103fa55f",
   "metadata": {
    "tags": []
   },
   "outputs": [],
   "source": [
    "estat_t, valor_p = sts.ttest_ind(filmes_infantil_aventura, filmes_infantil_fantasia, equal_var=False)"
   ]
  },
  {
   "cell_type": "code",
   "execution_count": 591,
   "id": "f3e642f2-f1aa-43a3-bf90-f2cd321275c3",
   "metadata": {
    "tags": []
   },
   "outputs": [],
   "source": [
    "alfa = 0.05"
   ]
  },
  {
   "cell_type": "code",
   "execution_count": 592,
   "id": "3fb23976-2fb4-46b2-ad61-82056d4670f0",
   "metadata": {
    "tags": []
   },
   "outputs": [
    {
     "name": "stdout",
     "output_type": "stream",
     "text": [
      "Rejeite a hipótese nula (H0)\n",
      "Existe uma diferença significativa nas médias de avaliações entre filmes de aventura e fantasia.\n"
     ]
    }
   ],
   "source": [
    "if valor_p < alfa:\n",
    "    print(\"Rejeite a hipótese nula (H0)\")\n",
    "    print(\"Existe uma diferença significativa nas médias de avaliações entre filmes de aventura e fantasia.\")\n",
    "else:\n",
    "    print(\"Não rejeite a hipótese nula (H0)\")\n",
    "    print(\"Não há diferença significativa nas médias de avaliações entre filmes de aventura e fantasia.\")"
   ]
  },
  {
   "cell_type": "markdown",
   "id": "cd416db7-d2e5-4778-a6fc-20f6b6f32a84",
   "metadata": {},
   "source": [
    "### Salvando a base em excel"
   ]
  },
  {
   "cell_type": "code",
   "execution_count": 593,
   "id": "ed280ca1-c324-4871-ab28-8e0e0c38df1b",
   "metadata": {
    "tags": []
   },
   "outputs": [],
   "source": [
    "caminho_arquivo = \"dados_tratados/avaliacoes_de_filmes.xlsx\""
   ]
  },
  {
   "cell_type": "code",
   "execution_count": 594,
   "id": "cf767891-54d8-43db-9271-df7756e0fe67",
   "metadata": {
    "tags": []
   },
   "outputs": [],
   "source": [
    "# Salvando base tratada em excel\n",
    "base_filmes.to_excel(caminho_arquivo, index=False)"
   ]
  }
 ],
 "metadata": {
  "kernelspec": {
   "display_name": "Python 3 (ipykernel)",
   "language": "python",
   "name": "python3"
  },
  "language_info": {
   "codemirror_mode": {
    "name": "ipython",
    "version": 3
   },
   "file_extension": ".py",
   "mimetype": "text/x-python",
   "name": "python",
   "nbconvert_exporter": "python",
   "pygments_lexer": "ipython3",
   "version": "3.11.5"
  }
 },
 "nbformat": 4,
 "nbformat_minor": 5
}
